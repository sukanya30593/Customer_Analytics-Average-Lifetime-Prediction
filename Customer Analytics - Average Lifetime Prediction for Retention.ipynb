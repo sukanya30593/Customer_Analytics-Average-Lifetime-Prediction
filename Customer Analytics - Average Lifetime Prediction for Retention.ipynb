{
 "cells": [
  {
   "cell_type": "code",
   "execution_count": 1,
   "metadata": {},
   "outputs": [],
   "source": [
    "import warnings\n",
    "warnings.filterwarnings(\"ignore\")\n",
    "import pandas as pd\n",
    "import numpy as np\n",
    "from lifelines import CoxPHFitter\n",
    "from lifelines import KaplanMeierFitter"
   ]
  },
  {
   "cell_type": "markdown",
   "metadata": {},
   "source": [
    "# Task 1:\n",
    "Analyze subscriber data to predict an average customer lifetime. **Create a model that predicts the length of an expected average customer lifespan.**<br><br>\n",
    "***Note***: For confidentiality reasons, I will be not be able to show the data. Hence, I have listed the data definition in detail below."
   ]
  },
  {
   "cell_type": "markdown",
   "metadata": {},
   "source": [
    "### Step 1: Data cleaning"
   ]
  },
  {
   "cell_type": "code",
   "execution_count": 2,
   "metadata": {},
   "outputs": [],
   "source": [
    "# read the data\n",
    "subscriber_data = pd.read_csv(\"Subscriber Data_Spreadsheet.csv\", skiprows=[0]) #skiprows excludes reading in the first row"
   ]
  },
  {
   "cell_type": "code",
   "execution_count": 3,
   "metadata": {},
   "outputs": [
    {
     "data": {
      "text/plain": [
       "TransactionID                    object\n",
       "Transaction Start Date           object\n",
       "User ID                          object\n",
       "Status                           object\n",
       "Term Type                        object\n",
       "Transaction Cancellation Date    object\n",
       "Transaction Expiration Date      object\n",
       "Auto Renew Enabled                 bool\n",
       "Device                           object\n",
       "dtype: object"
      ]
     },
     "execution_count": 3,
     "metadata": {},
     "output_type": "execute_result"
    }
   ],
   "source": [
    "subscriber_data.dtypes"
   ]
  },
  {
   "cell_type": "markdown",
   "metadata": {},
   "source": [
    "**Data definition:**\n",
    "<pre>\n",
    "TransactionID                    Unique ID of each subscription transaction\n",
    "Transaction Start Date           Start date of subscription transaction\n",
    "User ID                          Unique subcriber account Id\n",
    "Status                           Subscription status (active or not)\n",
    "Term Type                        Subscription type (6-month or 1-year)\n",
    "Transaction Cancellation Date    Date when user cancelled their subscription\n",
    "Transaction Expiration Date      Subscription End Date (past) or when it will end automatically (future) if not renewed\n",
    "Auto Renew Enabled               True/False\n",
    "Device                           Desktop/Mobile/Tablet/Other\n",
    "</pre>"
   ]
  },
  {
   "cell_type": "code",
   "execution_count": 4,
   "metadata": {},
   "outputs": [
    {
     "name": "stdout",
     "output_type": "stream",
     "text": [
      "# of rows and columns in data set:  (98351, 9)\n",
      "# of Unique users:  92603\n",
      "# of Unique transactions:  98351\n"
     ]
    }
   ],
   "source": [
    "print(\"# of rows and columns in data set: \", subscriber_data.shape)\n",
    "print(\"# of Unique users: \", len(subscriber_data[\"User ID\"].unique()))\n",
    "print(\"# of Unique transactions: \", len(subscriber_data[\"TransactionID\"].unique()))"
   ]
  },
  {
   "cell_type": "markdown",
   "metadata": {},
   "source": [
    "**Observation:** <br>\n",
    "There are 176 unique transaction IDs which contain duplicate entries across all other columns. These duplicate rows will not provide any new information. Hence, I will de-dupe these records. "
   ]
  },
  {
   "cell_type": "code",
   "execution_count": 5,
   "metadata": {},
   "outputs": [],
   "source": [
    "subscriber_fullDups = subscriber_data[subscriber_data.duplicated(subset = ['Transaction Start Date', 'User ID', 'Status',\n",
    "                                                                      'Term Type', 'Auto Renew Enabled', \n",
    "                                                                      'Transaction Cancellation Date', 'Device', \n",
    "                                                                      'Transaction Expiration Date'] , keep = False)]\n",
    "# this code shows that there are 176 transaction entries containing duplicate entries under all columns expect TransactionID"
   ]
  },
  {
   "cell_type": "code",
   "execution_count": 6,
   "metadata": {},
   "outputs": [
    {
     "name": "stdout",
     "output_type": "stream",
     "text": [
      "Shape after first de-duplication:  (98251, 9)\n",
      "# unique users:  92603\n"
     ]
    }
   ],
   "source": [
    "# delete the duplicate entries and keep just first occurence\n",
    "dedupe_1 = subscriber_data.drop_duplicates(['Transaction Start Date', 'User ID', 'Status',\n",
    "                                                                      'Term Type', 'Auto Renew Enabled', \n",
    "                                                                      'Transaction Cancellation Date', 'Device', \n",
    "                                                                      'Transaction Expiration Date'], keep = 'first')\n",
    "print(\"Shape after first de-duplication: \", dedupe_1.shape)\n",
    "print(\"# unique users: \", len(dedupe_1[\"User ID\"].unique()))"
   ]
  },
  {
   "cell_type": "markdown",
   "metadata": {},
   "source": [
    "**Observation:** <br>\n",
    "Further I noted that there are 146 transaction IDs which contain same information under the combination of columns - ['Transaction Start Date', 'User ID', 'Term Type', 'Transaction Expiration Date']. Duplication in these four columns may mean that they represent the exact same transaction/subscription. <br><br>\n",
    "*Example*: There are two rows with same information in ['Transaction Start Date', 'User ID', 'Term Type', 'Transaction Expiration Date'] columns. The only difference is in 'Auto Renew Enabled' (values given - True/False). This might have been an issue while recording the data. <br><br>\n",
    "*Solution*: To de-dupe them, I will keep the first occurence and delete the rest of the duplicates. (Note: The decision to keep the first occurence is for the sake of simplicity. More advanced data cleaning steps can be applied in future like imputing the median value for ['Auto Renew Enabled', 'Device'] columns."
   ]
  },
  {
   "cell_type": "code",
   "execution_count": 7,
   "metadata": {},
   "outputs": [],
   "source": [
    "subscriber_partialDups = dedupe_1[dedupe_1.duplicated(['Transaction Start Date', 'User ID', 'Term Type', \n",
    "                                                      'Transaction Expiration Date'], keep = False)]"
   ]
  },
  {
   "cell_type": "code",
   "execution_count": 8,
   "metadata": {},
   "outputs": [
    {
     "name": "stdout",
     "output_type": "stream",
     "text": [
      "Shape after final de-duplication:  (98178, 9)\n",
      "# unique users:  92603\n"
     ]
    }
   ],
   "source": [
    "dedupe_2 = dedupe_1.drop_duplicates(['Transaction Start Date', 'User ID', 'Term Type', \n",
    "                                  'Transaction Expiration Date'], keep = 'first')\n",
    "print(\"Shape after final de-duplication: \", dedupe_2.shape)\n",
    "print(\"# unique users: \",len(dedupe_2[\"User ID\"].unique()))\n",
    "# removed total 173 rows with duplicate/questionable entries"
   ]
  },
  {
   "cell_type": "markdown",
   "metadata": {},
   "source": [
    "**Observation:** <br>\n",
    "1. There are 87,684 users with only single transactions in the data set. <br><br>\n",
    "2. There are 4,919 users with multiple transactions, with total transaction records for them being 10,494. This group consists of users who have performed multiple actions such as upgrading/cancelling then activating their subscriptions. <br><br>\n",
    "3. *Note:* I will concentrate on the 87,684 users in the below analysis because single transaction users form the larger part of the data. Also, users with multiple transactions will need separate data pre-processing for calculating accurate duration of their subscriptions (as listed at the end of the notebook). "
   ]
  },
  {
   "cell_type": "code",
   "execution_count": 9,
   "metadata": {},
   "outputs": [
    {
     "name": "stdout",
     "output_type": "stream",
     "text": [
      "# users with unique transaction records:  (87684, 1)\n",
      "# users with multiple transaction records:  4919\n"
     ]
    }
   ],
   "source": [
    "# separating single transaction users\n",
    "user_groups = pd.DataFrame(dedupe_2.groupby(['User ID'])['TransactionID'].count()).reset_index()\n",
    "unique_userIDs = user_groups.loc[user_groups.TransactionID == 1]\n",
    "unique_userIDs.drop(\"TransactionID\", axis = 1, inplace = True)\n",
    "\n",
    "# separating multiple transaction users\n",
    "multiple_userIDs = user_groups.loc[user_groups.TransactionID > 1]\n",
    "multiple_userIDs.drop(\"TransactionID\", axis = 1, inplace = True)\n",
    "print(\"# users with unique transaction records: \", unique_userIDs.shape)\n",
    "print(\"# users with multiple transaction records: \", len(multiple_userIDs))"
   ]
  },
  {
   "cell_type": "markdown",
   "metadata": {},
   "source": [
    "**I will use following data (containing unique transactions for each user account) for further analysis and modeling average customer life span**"
   ]
  },
  {
   "cell_type": "code",
   "execution_count": 10,
   "metadata": {},
   "outputs": [],
   "source": [
    "unique_user_trans = pd.merge(unique_userIDs, dedupe_2, how='inner', on=['User ID'])"
   ]
  },
  {
   "cell_type": "code",
   "execution_count": 11,
   "metadata": {},
   "outputs": [
    {
     "name": "stdout",
     "output_type": "stream",
     "text": [
      "# rows and columns:  (10494, 9)\n"
     ]
    }
   ],
   "source": [
    "multiple_user_trans = pd.merge(multiple_userIDs, dedupe_2, how='inner', on=['User ID'])\n",
    "print(\"# rows and columns: \", multiple_user_trans.shape)\n",
    "\n",
    "# keeping this part out for now\n",
    "# needs further processing to calculate accurate subscription duration, to be used in survival modeling."
   ]
  },
  {
   "cell_type": "markdown",
   "metadata": {},
   "source": [
    "### Step 2: Data Pre-processing"
   ]
  },
  {
   "cell_type": "markdown",
   "metadata": {},
   "source": [
    "Calculation of averge customer lifetime can be done using 'survival analysis' where:<br>\n",
    "1. Event: Customer churned (I will create a new column with this information)\n",
    "2. Time line: The time from the beginning of an observation period (subsription start time) to its end (subscription end time or today's date, which signifies end of study)\n",
    "3. Time of event Occurrence (T): Random time at which the event may occur\n",
    "4. Right-Censoring: There are users who haven’t encountered the event (subscription termination) during the observation time. This makes the data right-censored.\n",
    "<br>\n",
    "\n",
    "*Reference:*\n",
    "\n",
    "[More on types of censoring](https://blog.minitab.com/blog/michelle-paret/the-difference-between-right-left-and-interval-censored-data)"
   ]
  },
  {
   "cell_type": "code",
   "execution_count": 12,
   "metadata": {},
   "outputs": [],
   "source": [
    "# convert the date columns from string to datetime, for further manipulation\n",
    "\n",
    "unique_user_trans['Transaction Start Date'] = pd.to_datetime(unique_user_trans['Transaction Start Date'])\n",
    "unique_user_trans['Transaction Cancellation Date'] = pd.to_datetime(unique_user_trans['Transaction Cancellation Date'])\n",
    "unique_user_trans['Transaction Expiration Date'] = pd.to_datetime(unique_user_trans['Transaction Expiration Date'])"
   ]
  },
  {
   "cell_type": "code",
   "execution_count": 13,
   "metadata": {},
   "outputs": [
    {
     "data": {
      "text/plain": [
       "active             41371\n",
       "expired            29344\n",
       "payment failure    10427\n",
       "cancelled           6514\n",
       "won't renew           28\n",
       "Name: Status, dtype: int64"
      ]
     },
     "execution_count": 13,
     "metadata": {},
     "output_type": "execute_result"
    }
   ],
   "source": [
    "unique_user_trans[\"Status\"].value_counts()"
   ]
  },
  {
   "cell_type": "markdown",
   "metadata": {},
   "source": [
    "#### Assumptions related to the data:\n",
    "1. For transaction status = 'Payment Failure', if user has not initiated new transaction after that, I will consider the expiration date as the last date of user's activity and consider the user churned. <br><br>\n",
    "2. For active users whose transaction expiration date is in the past (before 3rd July 2020), I will assume the subscription is still active. Hence, for calculating length of their subscription, I will consider the difference between today's date (3rd July 2020) and corresponding transaction start date. <br><br>\n",
    "3. For [Expired, Payment Failure and Won't renew] transactions, use the expiration date as time of event. <br>This is based on my assuption/intuition as the data file said *Transaction Expiration Date means the End Date of subscription transaction (past) or when it is set to end automatically (future) if not renewed*."
   ]
  },
  {
   "cell_type": "code",
   "execution_count": 14,
   "metadata": {},
   "outputs": [],
   "source": [
    "# following function calculates duration/tenure of subscription in DAYS. \n",
    "\n",
    "def calculate_days(row):\n",
    "    \"\"\"\n",
    "    Logic for choosing subscription end date:\n",
    "    \n",
    "    1. Cancelled transactions :: use the cancellation date as time of event\n",
    "    2. [Expired, Payment Failure and Won't renew] transactions :: use the expiration date as time of event\n",
    "    3. Active transactions :: Event has not occured. So subcription duration is calculated till today's date. \n",
    "\n",
    "    \"\"\"\n",
    "    \n",
    "    if row['Status'] == \"cancelled\":\n",
    "        val = (row['Transaction Cancellation Date'] - row['Transaction Start Date'])/np.timedelta64(1, 'D')\n",
    "    \n",
    "    elif row['Status'] == \"expired\" or row['Status'] == \"payment failure\" or row['Status'] == \"won't renew\":\n",
    "        val = (row['Transaction Expiration Date'] - row['Transaction Start Date'])/np.timedelta64(1, 'D')\n",
    "    \n",
    "    elif row['Status'] == \"active\":\n",
    "        val = (pd.to_datetime('07-03-2020') - row['Transaction Start Date'])/np.timedelta64(1, 'D')\n",
    "    \n",
    "    else:\n",
    "        val = 0\n",
    "        \n",
    "    return int(val)\n",
    "\n",
    "# new column with tenure in days\n",
    "unique_user_trans['Tenure'] = unique_user_trans.apply(calculate_days, axis=1)\n",
    "\n",
    "# all users who are not active have been labelled as churned. Note - decision based on intuition. \n",
    "# In reality, business input would be helpful here\n",
    "unique_user_trans['Churn'] = np.where(unique_user_trans['Status']=='active', 0, 1)"
   ]
  },
  {
   "cell_type": "code",
   "execution_count": 15,
   "metadata": {},
   "outputs": [
    {
     "data": {
      "text/plain": [
       "User ID                                  object\n",
       "TransactionID                            object\n",
       "Transaction Start Date           datetime64[ns]\n",
       "Status                                   object\n",
       "Term Type                                object\n",
       "Transaction Cancellation Date    datetime64[ns]\n",
       "Transaction Expiration Date      datetime64[ns]\n",
       "Auto Renew Enabled                         bool\n",
       "Device                                   object\n",
       "Tenure                                    int64\n",
       "Churn                                     int32\n",
       "dtype: object"
      ]
     },
     "execution_count": 15,
     "metadata": {},
     "output_type": "execute_result"
    }
   ],
   "source": [
    "unique_user_trans.dtypes\n",
    "# dataframe with 2 new columns 'Tenure', 'Churn' is ready for use in modeling"
   ]
  },
  {
   "cell_type": "code",
   "execution_count": 16,
   "metadata": {},
   "outputs": [
    {
     "data": {
      "text/plain": [
       "<matplotlib.axes._subplots.AxesSubplot at 0x208c77be548>"
      ]
     },
     "execution_count": 16,
     "metadata": {},
     "output_type": "execute_result"
    },
    {
     "data": {
      "image/png": "[encoded data removed]",
      "text/plain": [
       "<Figure size 432x288 with 1 Axes>"
      ]
     },
     "metadata": {
      "needs_background": "light"
     },
     "output_type": "display_data"
    }
   ],
   "source": [
    "unique_user_trans[\"Tenure\"].hist(bins=70)"
   ]
  },
  {
   "cell_type": "markdown",
   "metadata": {},
   "source": [
    "### Step 3: Data Exploration/Preliminary Analysis"
   ]
  },
  {
   "cell_type": "markdown",
   "metadata": {},
   "source": [
    "#### Kaplan Myer Estimate (Non-Parametric Method)\n",
    "\n",
    "I will fit KM Estimate to:\n",
    "1. Get an aggregated view of how long someone is going to be a customer typically. \n",
    "2. Compare the overall survival rates of monthly and yearly subscriber cohorts.\n",
    "3. Take a simplistic approach to model only the survival time (without any other impacting variables), which does not assume any underlying distribution of survival times. \n",
    "<br><br>\n",
    "Note: Kaplan-Meier curve can be used when every user can have only a single “birth” (subscription activation) and a single “death” (regardless of whether it is observed or not) event. Since the data set I am using only has single record for each user, I will go ahead and fit KM curve below."
   ]
  },
  {
   "cell_type": "code",
   "execution_count": 17,
   "metadata": {},
   "outputs": [
    {
     "data": {
      "text/plain": [
       "<matplotlib.axes._subplots.AxesSubplot at 0x208c9bc3548>"
      ]
     },
     "execution_count": 17,
     "metadata": {},
     "output_type": "execute_result"
    },
    {
     "data": {
      "image/png": "[encoded data removed]",
      "text/plain": [
       "<Figure size 432x288 with 1 Axes>"
      ]
     },
     "metadata": {
      "needs_background": "light"
     },
     "output_type": "display_data"
    }
   ],
   "source": [
    "# create a kmf object\n",
    "kmf = KaplanMeierFitter() \n",
    "\n",
    "T = unique_user_trans['Tenure']   \n",
    "E = unique_user_trans['Churn']\n",
    "\n",
    "groups = unique_user_trans['Term Type']   \n",
    "i1 = (groups == 'Monthly')      ## group i1 , having the pandas series  for the 1st cohort\n",
    "i2 = (groups == 'Annual')     ## group i2 , having the pandas series  for the 2nd cohort\n",
    "\n",
    "# fit the model for 1st cohort\n",
    "kmf.fit(T[i1], E[i1], label='Monthly Subscription')\n",
    "a1 = kmf.plot()\n",
    "\n",
    "# fit the model for 2nd cohort\n",
    "kmf.fit(T[i2], E[i2], label='Annual Subscription')\n",
    "kmf.plot(ax=a1)"
   ]
  },
  {
   "cell_type": "code",
   "execution_count": 18,
   "metadata": {},
   "outputs": [
    {
     "data": {
      "image/png": "[encoded data removed]",
      "text/plain": [
       "<Figure size 432x288 with 1 Axes>"
      ]
     },
     "metadata": {
      "needs_background": "light"
     },
     "output_type": "display_data"
    }
   ],
   "source": [
    "# get a better look at annual subscribers\n",
    "# Note: the flat lines correspond to 365 days (a year), which is the length of annual subscription.\n",
    "# Hence, there is no decrease in survival rate during that time\n",
    "\n",
    "kmf.fit(T[i2], E[i2], label='Annual Subscription')\n",
    "a2 = kmf.plot()"
   ]
  },
  {
   "cell_type": "markdown",
   "metadata": {},
   "source": [
    "**Observations:**\n",
    "1. At any point t across the timeline, the survival probability of annual subscribers is more than monthly subscribers. <br><br>\n",
    "2. For monthly subscribers, the survival probability is decreasing with high rate during initial 200 days (~6 months) and it gets relatively better after that. <br><br>\n",
    "3. For annual subscribers, the rate of decrease in survival rate is dramatic after 1st year compared to the decrease after 2nd year. Indicating that there is a high probability of people churning after 1st year and the rate decreases after 2nd year. <br><br>\n",
    "4. **Business Recommendation**: For the cohort who maintain a monthly subscription, efforts should be made to retain them in initial 6 volatile months. And for the annual subscribers, effort should be made to retain them towards the end of their 1st Annual membership."
   ]
  },
  {
   "cell_type": "markdown",
   "metadata": {},
   "source": [
    "### Step 4: Modeling"
   ]
  },
  {
   "cell_type": "markdown",
   "metadata": {},
   "source": [
    "### Motivation behind choice of the model, along with statistical reasoning and assumptions:\n",
    "#### Answer 1:\n",
    "Model Selection (Non-Parametric vs Semi-Parametric vs Parametric):\n",
    "1. Non-parametric models are too simplistic. They are not efficient at predictions into future at user-level. Hence, I used them only for exploration <br><br>\n",
    "2. Parametric models are best when underlying distribution is already known. An underlying distribution can be known either by business sense (e.g. if user churn probability gets lower with longer subscription lengths, then it follows a Lomax distribution. On the contrary if it increases, then it follows Weibull distribution) or it can be known using goodnes of fit test which requires more data.<br>\n",
    "Here, the underlying distribution could be log-normal/Weibull/exponential/log-logistic etc., in which case a maximum likelihood approach for estimating corresponding parameters will need to be used. However, since I do not already know the data distribution and I am not willing to make an assumption, I will de-prioritize parametric models <br><br>\n",
    "3. Semi-parametric models like Cox Proportional Hazards fit survival models without knowing (or assuming) the underlying distribution. Hence, I will choose Cox PH model. <br><br>\n",
    "**CoxPH Model Assumptions:**<br>\n",
    "-- There is constant relationship between dependent and independent variables.<br>\n",
    "-- The Hazard Ratio (rate of experiencing event at given time) of two subjects remains the same at all times.<br>\n",
    "Note: I have listed other simplifying assumptions around data in above sections.\n",
    "\n",
    "### Stochastic properties of the dataset considered when developing the model and model characteristics/hyper-parameters to account for those:\n",
    "#### Answer 2:\n",
    "Stochastic properties:\n",
    "1. A single individual can have multiple actions on the same account. Hence they show up in the dataset more than once. Such records are present in the 'multiple_user_trans' dataframe above. Solution - The clustering characteristic of CoxPH can solve this. <br><br>\n",
    "2. The \"Cancelled transactions\" have same subscription start and expiry dates. This introduces zeros in 'Tenure' when I calculate the duration of these user's memberships (Note: these users have no other account status such as active/upgrade; but only cancellations). Solution - CoxPH model can handle tenure = 0 at t=0 (beginning of study). No other parametric models, such as Weibull/Log-Normal can directly handle this case. <br><br>\n",
    "3. There does not seem to be high-correlation between variables. Also the number of variables is less. If either of these were true, then they would need to be handled using the 'penalizer' hyper parameter of CoxPH\n",
    "\n",
    "*Reference*:\n",
    "\n",
    "[Very good discussion on model selection](https://stats.stackexchange.com/questions/64739/in-survival-analysis-why-do-we-use-semi-parametric-models-cox-proportional-haz)\n",
    "\n",
    "### Regarding the dimensionality of the data:\n",
    "#### Answer 3:\n",
    "Currently, the dimensionality of the given data is small with only 3 other covariates in addition to Tenure and Churn. However, when anlaysis is to be performed with high dimensionality data (large number of covariates) then:\n",
    "1. Feature selection methods should be used, especially to get rid of redundant and highly correlated variables\n",
    "2. Feature extraction methods should be used, using say random survival forests\n",
    "3. When categorical data is present in addition to numeric data and the levels in categorical data are high then appropriate level-reduction techniques should be employed as opposed to using One Hot Encoding.\n",
    "4. If the # of rows is very huge, stratified sampling technique should be used to sample both censored and uncensored data points, proportional to their population distribution\n",
    "5. Use regularization technique, when using regression models such as CoxPH to minimize coefficients of ineffective variables and select impactful features\n",
    "\n",
    "### Potential sources of statistical bias in the data that could introduce error into your model and their treatment through choice of model or re-collection of data:\n",
    "#### Answer 4:\n",
    "A statistical bias occurs when a statistic is calculated in such a way that it is systematically different from the population parameter being estimated. <br>\n",
    "Potential sources and solutions:\n",
    "1. *Estimator bias:* Assuming a particular distribution beforehand and estimating parameters wrongly using parametric models. Example: For a business with churn increasing per day, if the distribution is assumed to be lomax (which actually represents churn probability getting lower with longer subscriptions) then it will result in statistical bias. <br>\n",
    "*Solution* - Instead of assuming, apply semi-parametric models <br><br>\n",
    "2. *Selection bias* - If certain users are more likely to be selected (such as uncensored vs censored users) or if we choose not to include the censored data at all, then it is highly likely that our life span estimates would be highly biased and under-estimated. <br>\n",
    "*Solution* - Apply stratified sampling or equal proportion sampling techniques and make sure all cohorts present in population data are represented in the sample\n",
    "\n",
    "\n",
    "*Reference:*\n",
    "\n",
    "[Statistical Bias Wiki Definition](https://en.wikipedia.org/wiki/Bias_(statistics))\n",
    "\n",
    "### Confidence score for the results - could be in-built or custom developed metric(s) to determine how trustworthy are the predictions for mean subscriber lifetime:\n",
    "#### Answer 5:\n",
    "\n",
    "I would develop a confidence score which would be a weighted average of:\n",
    "1. Lifetime-only metric - how many standard deviations is the predicted mean of certain subscriber's lifetime from the overall mean of historical lifetime of cohort. (KEY: this metric should be low)\n",
    "2. Independent variables metric - how many standard deviations is the value of independent variables for certain subscriber as compared to the overall cohort statistics (KEY: this metric should be low)\n",
    "3. Missing data metric - ratio of number of missing columns and total columns for the concerned customer (KEY: this metric should be low)<br>\n",
    "Thus,<br>\n",
    "Confidence score = Inverse of (a.Lifetime-only metric + b.Independent variables metric + c.Missing data metric)<br>\n",
    "where a,b,c are weights<br>\n",
    "Inverse is required because the equation is minimizing for optimal cases. To represent confidence closer to 100, we will need to inverse the equation\n",
    "\n",
    "### State-space representation of the model:\n",
    "#### Answer 6:\n",
    "I have not used a neural network for modeling. As per my knowledge, state space representation would be more applicable for neural networks as opposed to regression or exponentials.\n",
    "\n",
    "### Considerations and optimizations for model scalability in prodution:\n",
    "#### Answer 7:\n",
    "For building a practical predictor:\n",
    "1. *Data Structure optimizations* - For the assessment purposes, I have heavily relied on dataframe and their operations which can cause bottlenecks. Example the function to calculate tenure days takes a few seconds currently. On scaling, this transformation can create a bottleneck. I will have to choose faster and efficient data structures such as arrays <br><br>\n",
    "2. *Model Complexity* - I would start with simpler models. Complex models like deep neural networds govern computation cost complexity. So I would critically assess if using a deep NN gives me a significant lift in predictions or not. If not, I would concentrate on optimizing the hyperparameters of simpler survival models for better predictions. <br><br>\n",
    "3. *One-off training* - Models don’t necessarily need to be continuously trained. I would need to optimize on robust, trackable model performance metrics such that they can be monitored and model be trained only when performance signficantly decreases.<br><br>\n",
    "4. *Batch vs. Real-time Prediction* - Real-time predictions have data-load, cost and infrastructure implications. I would make my model a batch model as customer avg lifetime need not output results in real-time <br><br>\n",
    "5. *Sampling data* - For training the model, samples from coherent clusters can be taken instead of feeding the whole data if the population data is humungous.\n",
    "\n",
    "### Model tuning in case of increase of errors in model predictions:\n",
    "#### Answer 8:\n",
    "To initially build a model which can adapt to changes without having to completely re-model requires real-time online machine learning models. As mentioned in Asnwer 7, these real-time models have cost implications. If the goal is to keep the overall process efficient within \"limited resource constraints\", I would rather take following approach:\n",
    "\n",
    "1. *Calculate Model Drift* - Drift means model’s predictive performance degrades over time due to changes in inputs, which violate the model’s assumptions. It can be measured in terms of the accuracy, recall metrics (Note: to calculate accuracy/recall, the true 'y' values might not be instantaneously available at the time predictions are generated. In this case, the drift will be lagged in time, say by a few days or months). <br><br>\n",
    "2. *Employ Feature Inspection* - Model performance is expected to degrade if the incoming data deviate significantly as compared to the training data distributions. This might be due to outliers or one-off changes in trends.<br>\n",
    "2a. I would monitor each feature in terms of distribution, NULLs, outliers. And treat them before sending into the model for prediction. <br>\n",
    "2b. Feature correlations can be monitored as certain models are based on assumptions that feature need to be uncorrelated<br>\n",
    "2c. Business sense can be applied, in the sense that if the changing trend in features is one-off and not expected then scaling and transformation techniques can be used. Additionally, model assumptions should be checked which use input features <br> \n",
    "2d. Check the distribution of target variable<br><br>\n",
    "3. *Minimized number of complete model retrainings* - Both above steps will minimize the number of complete model retrainings. However, complete model retrainings are required for improving predictive performance, in case of addition of new data sources or new feature engineering or hyperparameter tuning for changed trends in input features."
   ]
  },
  {
   "cell_type": "code",
   "execution_count": 19,
   "metadata": {},
   "outputs": [
    {
     "data": {
      "text/plain": [
       "Term Type             object\n",
       "Auto Renew Enabled      bool\n",
       "Device                object\n",
       "Tenure                 int64\n",
       "Churn                  int32\n",
       "dtype: object"
      ]
     },
     "execution_count": 19,
     "metadata": {},
     "output_type": "execute_result"
    }
   ],
   "source": [
    "unique_user_modelDF = unique_user_trans[[\"Term Type\", \"Auto Renew Enabled\", \"Device\", \"Tenure\",\"Churn\"]]\n",
    "unique_user_modelDF.dtypes"
   ]
  },
  {
   "cell_type": "code",
   "execution_count": 20,
   "metadata": {},
   "outputs": [
    {
     "data": {
      "text/plain": [
       "Auto Renew Enabled    int32\n",
       "Tenure                int64\n",
       "Churn                 int32\n",
       "Term Type_Monthly     uint8\n",
       "Device_external       uint8\n",
       "Device_mobile         uint8\n",
       "Device_other          uint8\n",
       "Device_tablet         uint8\n",
       "dtype: object"
      ]
     },
     "execution_count": 20,
     "metadata": {},
     "output_type": "execute_result"
    }
   ],
   "source": [
    "df_dummy = pd.get_dummies(unique_user_modelDF, drop_first=True)\n",
    "df_dummy[\"Auto Renew Enabled\"] = df_dummy[\"Auto Renew Enabled\"].astype(int)\n",
    "df_dummy.dtypes"
   ]
  },
  {
   "cell_type": "code",
   "execution_count": 21,
   "metadata": {},
   "outputs": [
    {
     "data": {
      "text/html": [
       "<style  type=\"text/css\" >\n",
       "    #T_2f0d345a_c0b3_11ea_a921_287fcf8c987arow0_col0 {\n",
       "            background-color:  #b40426;\n",
       "            color:  #f1f1f1;\n",
       "        }    #T_2f0d345a_c0b3_11ea_a921_287fcf8c987arow0_col1 {\n",
       "            background-color:  #bfd3f6;\n",
       "            color:  #000000;\n",
       "        }    #T_2f0d345a_c0b3_11ea_a921_287fcf8c987arow0_col2 {\n",
       "            background-color:  #b9d0f9;\n",
       "            color:  #000000;\n",
       "        }    #T_2f0d345a_c0b3_11ea_a921_287fcf8c987arow0_col3 {\n",
       "            background-color:  #97b8ff;\n",
       "            color:  #000000;\n",
       "        }    #T_2f0d345a_c0b3_11ea_a921_287fcf8c987arow0_col4 {\n",
       "            background-color:  #5d7ce6;\n",
       "            color:  #000000;\n",
       "        }    #T_2f0d345a_c0b3_11ea_a921_287fcf8c987arow0_col5 {\n",
       "            background-color:  #6282ea;\n",
       "            color:  #000000;\n",
       "        }    #T_2f0d345a_c0b3_11ea_a921_287fcf8c987arow0_col6 {\n",
       "            background-color:  #465ecf;\n",
       "            color:  #f1f1f1;\n",
       "        }    #T_2f0d345a_c0b3_11ea_a921_287fcf8c987arow0_col7 {\n",
       "            background-color:  #5875e1;\n",
       "            color:  #000000;\n",
       "        }    #T_2f0d345a_c0b3_11ea_a921_287fcf8c987arow1_col0 {\n",
       "            background-color:  #445acc;\n",
       "            color:  #f1f1f1;\n",
       "        }    #T_2f0d345a_c0b3_11ea_a921_287fcf8c987arow1_col1 {\n",
       "            background-color:  #b40426;\n",
       "            color:  #f1f1f1;\n",
       "        }    #T_2f0d345a_c0b3_11ea_a921_287fcf8c987arow1_col2 {\n",
       "            background-color:  #3b4cc0;\n",
       "            color:  #f1f1f1;\n",
       "        }    #T_2f0d345a_c0b3_11ea_a921_287fcf8c987arow1_col3 {\n",
       "            background-color:  #3b4cc0;\n",
       "            color:  #f1f1f1;\n",
       "        }    #T_2f0d345a_c0b3_11ea_a921_287fcf8c987arow1_col4 {\n",
       "            background-color:  #4e68d8;\n",
       "            color:  #000000;\n",
       "        }    #T_2f0d345a_c0b3_11ea_a921_287fcf8c987arow1_col5 {\n",
       "            background-color:  #5977e3;\n",
       "            color:  #000000;\n",
       "        }    #T_2f0d345a_c0b3_11ea_a921_287fcf8c987arow1_col6 {\n",
       "            background-color:  #4b64d5;\n",
       "            color:  #f1f1f1;\n",
       "        }    #T_2f0d345a_c0b3_11ea_a921_287fcf8c987arow1_col7 {\n",
       "            background-color:  #688aef;\n",
       "            color:  #000000;\n",
       "        }    #T_2f0d345a_c0b3_11ea_a921_287fcf8c987arow2_col0 {\n",
       "            background-color:  #3b4cc0;\n",
       "            color:  #f1f1f1;\n",
       "        }    #T_2f0d345a_c0b3_11ea_a921_287fcf8c987arow2_col1 {\n",
       "            background-color:  #3b4cc0;\n",
       "            color:  #f1f1f1;\n",
       "        }    #T_2f0d345a_c0b3_11ea_a921_287fcf8c987arow2_col2 {\n",
       "            background-color:  #b40426;\n",
       "            color:  #f1f1f1;\n",
       "        }    #T_2f0d345a_c0b3_11ea_a921_287fcf8c987arow2_col3 {\n",
       "            background-color:  #f4c5ad;\n",
       "            color:  #000000;\n",
       "        }    #T_2f0d345a_c0b3_11ea_a921_287fcf8c987arow2_col4 {\n",
       "            background-color:  #85a8fc;\n",
       "            color:  #000000;\n",
       "        }    #T_2f0d345a_c0b3_11ea_a921_287fcf8c987arow2_col5 {\n",
       "            background-color:  #5470de;\n",
       "            color:  #000000;\n",
       "        }    #T_2f0d345a_c0b3_11ea_a921_287fcf8c987arow2_col6 {\n",
       "            background-color:  #4257c9;\n",
       "            color:  #f1f1f1;\n",
       "        }    #T_2f0d345a_c0b3_11ea_a921_287fcf8c987arow2_col7 {\n",
       "            background-color:  #4c66d6;\n",
       "            color:  #000000;\n",
       "        }    #T_2f0d345a_c0b3_11ea_a921_287fcf8c987arow3_col0 {\n",
       "            background-color:  #4257c9;\n",
       "            color:  #f1f1f1;\n",
       "        }    #T_2f0d345a_c0b3_11ea_a921_287fcf8c987arow3_col1 {\n",
       "            background-color:  #6b8df0;\n",
       "            color:  #000000;\n",
       "        }    #T_2f0d345a_c0b3_11ea_a921_287fcf8c987arow3_col2 {\n",
       "            background-color:  #f7b396;\n",
       "            color:  #000000;\n",
       "        }    #T_2f0d345a_c0b3_11ea_a921_287fcf8c987arow3_col3 {\n",
       "            background-color:  #b40426;\n",
       "            color:  #f1f1f1;\n",
       "        }    #T_2f0d345a_c0b3_11ea_a921_287fcf8c987arow3_col4 {\n",
       "            background-color:  #6a8bef;\n",
       "            color:  #000000;\n",
       "        }    #T_2f0d345a_c0b3_11ea_a921_287fcf8c987arow3_col5 {\n",
       "            background-color:  #7396f5;\n",
       "            color:  #000000;\n",
       "        }    #T_2f0d345a_c0b3_11ea_a921_287fcf8c987arow3_col6 {\n",
       "            background-color:  #3b4cc0;\n",
       "            color:  #f1f1f1;\n",
       "        }    #T_2f0d345a_c0b3_11ea_a921_287fcf8c987arow3_col7 {\n",
       "            background-color:  #4a63d3;\n",
       "            color:  #f1f1f1;\n",
       "        }    #T_2f0d345a_c0b3_11ea_a921_287fcf8c987arow4_col0 {\n",
       "            background-color:  #3f53c6;\n",
       "            color:  #f1f1f1;\n",
       "        }    #T_2f0d345a_c0b3_11ea_a921_287fcf8c987arow4_col1 {\n",
       "            background-color:  #b2ccfb;\n",
       "            color:  #000000;\n",
       "        }    #T_2f0d345a_c0b3_11ea_a921_287fcf8c987arow4_col2 {\n",
       "            background-color:  #d5dbe5;\n",
       "            color:  #000000;\n",
       "        }    #T_2f0d345a_c0b3_11ea_a921_287fcf8c987arow4_col3 {\n",
       "            background-color:  #a1c0ff;\n",
       "            color:  #000000;\n",
       "        }    #T_2f0d345a_c0b3_11ea_a921_287fcf8c987arow4_col4 {\n",
       "            background-color:  #b40426;\n",
       "            color:  #f1f1f1;\n",
       "        }    #T_2f0d345a_c0b3_11ea_a921_287fcf8c987arow4_col5 {\n",
       "            background-color:  #3b4cc0;\n",
       "            color:  #f1f1f1;\n",
       "        }    #T_2f0d345a_c0b3_11ea_a921_287fcf8c987arow4_col6 {\n",
       "            background-color:  #445acc;\n",
       "            color:  #f1f1f1;\n",
       "        }    #T_2f0d345a_c0b3_11ea_a921_287fcf8c987arow4_col7 {\n",
       "            background-color:  #4c66d6;\n",
       "            color:  #000000;\n",
       "        }    #T_2f0d345a_c0b3_11ea_a921_287fcf8c987arow5_col0 {\n",
       "            background-color:  #455cce;\n",
       "            color:  #f1f1f1;\n",
       "        }    #T_2f0d345a_c0b3_11ea_a921_287fcf8c987arow5_col1 {\n",
       "            background-color:  #bad0f8;\n",
       "            color:  #000000;\n",
       "        }    #T_2f0d345a_c0b3_11ea_a921_287fcf8c987arow5_col2 {\n",
       "            background-color:  #b6cefa;\n",
       "            color:  #000000;\n",
       "        }    #T_2f0d345a_c0b3_11ea_a921_287fcf8c987arow5_col3 {\n",
       "            background-color:  #a9c6fd;\n",
       "            color:  #000000;\n",
       "        }    #T_2f0d345a_c0b3_11ea_a921_287fcf8c987arow5_col4 {\n",
       "            background-color:  #3b4cc0;\n",
       "            color:  #f1f1f1;\n",
       "        }    #T_2f0d345a_c0b3_11ea_a921_287fcf8c987arow5_col5 {\n",
       "            background-color:  #b40426;\n",
       "            color:  #f1f1f1;\n",
       "        }    #T_2f0d345a_c0b3_11ea_a921_287fcf8c987arow5_col6 {\n",
       "            background-color:  #4055c8;\n",
       "            color:  #f1f1f1;\n",
       "        }    #T_2f0d345a_c0b3_11ea_a921_287fcf8c987arow5_col7 {\n",
       "            background-color:  #3b4cc0;\n",
       "            color:  #f1f1f1;\n",
       "        }    #T_2f0d345a_c0b3_11ea_a921_287fcf8c987arow6_col0 {\n",
       "            background-color:  #445acc;\n",
       "            color:  #f1f1f1;\n",
       "        }    #T_2f0d345a_c0b3_11ea_a921_287fcf8c987arow6_col1 {\n",
       "            background-color:  #c3d5f4;\n",
       "            color:  #000000;\n",
       "        }    #T_2f0d345a_c0b3_11ea_a921_287fcf8c987arow6_col2 {\n",
       "            background-color:  #bcd2f7;\n",
       "            color:  #000000;\n",
       "        }    #T_2f0d345a_c0b3_11ea_a921_287fcf8c987arow6_col3 {\n",
       "            background-color:  #90b2fe;\n",
       "            color:  #000000;\n",
       "        }    #T_2f0d345a_c0b3_11ea_a921_287fcf8c987arow6_col4 {\n",
       "            background-color:  #5f7fe8;\n",
       "            color:  #000000;\n",
       "        }    #T_2f0d345a_c0b3_11ea_a921_287fcf8c987arow6_col5 {\n",
       "            background-color:  #5b7ae5;\n",
       "            color:  #000000;\n",
       "        }    #T_2f0d345a_c0b3_11ea_a921_287fcf8c987arow6_col6 {\n",
       "            background-color:  #b40426;\n",
       "            color:  #f1f1f1;\n",
       "        }    #T_2f0d345a_c0b3_11ea_a921_287fcf8c987arow6_col7 {\n",
       "            background-color:  #5572df;\n",
       "            color:  #000000;\n",
       "        }    #T_2f0d345a_c0b3_11ea_a921_287fcf8c987arow7_col0 {\n",
       "            background-color:  #445acc;\n",
       "            color:  #f1f1f1;\n",
       "        }    #T_2f0d345a_c0b3_11ea_a921_287fcf8c987arow7_col1 {\n",
       "            background-color:  #cad8ef;\n",
       "            color:  #000000;\n",
       "        }    #T_2f0d345a_c0b3_11ea_a921_287fcf8c987arow7_col2 {\n",
       "            background-color:  #b9d0f9;\n",
       "            color:  #000000;\n",
       "        }    #T_2f0d345a_c0b3_11ea_a921_287fcf8c987arow7_col3 {\n",
       "            background-color:  #8fb1fe;\n",
       "            color:  #000000;\n",
       "        }    #T_2f0d345a_c0b3_11ea_a921_287fcf8c987arow7_col4 {\n",
       "            background-color:  #5673e0;\n",
       "            color:  #000000;\n",
       "        }    #T_2f0d345a_c0b3_11ea_a921_287fcf8c987arow7_col5 {\n",
       "            background-color:  #445acc;\n",
       "            color:  #f1f1f1;\n",
       "        }    #T_2f0d345a_c0b3_11ea_a921_287fcf8c987arow7_col6 {\n",
       "            background-color:  #445acc;\n",
       "            color:  #f1f1f1;\n",
       "        }    #T_2f0d345a_c0b3_11ea_a921_287fcf8c987arow7_col7 {\n",
       "            background-color:  #b40426;\n",
       "            color:  #f1f1f1;\n",
       "        }</style><table id=\"T_2f0d345a_c0b3_11ea_a921_287fcf8c987a\" ><thead>    <tr>        <th class=\"blank level0\" ></th>        <th class=\"col_heading level0 col0\" >Auto Renew Enabled</th>        <th class=\"col_heading level0 col1\" >Tenure</th>        <th class=\"col_heading level0 col2\" >Churn</th>        <th class=\"col_heading level0 col3\" >Term Type_Monthly</th>        <th class=\"col_heading level0 col4\" >Device_external</th>        <th class=\"col_heading level0 col5\" >Device_mobile</th>        <th class=\"col_heading level0 col6\" >Device_other</th>        <th class=\"col_heading level0 col7\" >Device_tablet</th>    </tr></thead><tbody>\n",
       "                <tr>\n",
       "                        <th id=\"T_2f0d345a_c0b3_11ea_a921_287fcf8c987alevel0_row0\" class=\"row_heading level0 row0\" >Auto Renew Enabled</th>\n",
       "                        <td id=\"T_2f0d345a_c0b3_11ea_a921_287fcf8c987arow0_col0\" class=\"data row0 col0\" >1.000000</td>\n",
       "                        <td id=\"T_2f0d345a_c0b3_11ea_a921_287fcf8c987arow0_col1\" class=\"data row0 col1\" >0.000650</td>\n",
       "                        <td id=\"T_2f0d345a_c0b3_11ea_a921_287fcf8c987arow0_col2\" class=\"data row0 col2\" >-0.034302</td>\n",
       "                        <td id=\"T_2f0d345a_c0b3_11ea_a921_287fcf8c987arow0_col3\" class=\"data row0 col3\" >-0.009959</td>\n",
       "                        <td id=\"T_2f0d345a_c0b3_11ea_a921_287fcf8c987arow0_col4\" class=\"data row0 col4\" >-0.016950</td>\n",
       "                        <td id=\"T_2f0d345a_c0b3_11ea_a921_287fcf8c987arow0_col5\" class=\"data row0 col5\" >0.005023</td>\n",
       "                        <td id=\"T_2f0d345a_c0b3_11ea_a921_287fcf8c987arow0_col6\" class=\"data row0 col6\" >0.001480</td>\n",
       "                        <td id=\"T_2f0d345a_c0b3_11ea_a921_287fcf8c987arow0_col7\" class=\"data row0 col7\" >0.000801</td>\n",
       "            </tr>\n",
       "            <tr>\n",
       "                        <th id=\"T_2f0d345a_c0b3_11ea_a921_287fcf8c987alevel0_row1\" class=\"row_heading level0 row1\" >Tenure</th>\n",
       "                        <td id=\"T_2f0d345a_c0b3_11ea_a921_287fcf8c987arow1_col0\" class=\"data row1 col0\" >0.000650</td>\n",
       "                        <td id=\"T_2f0d345a_c0b3_11ea_a921_287fcf8c987arow1_col1\" class=\"data row1 col1\" >1.000000</td>\n",
       "                        <td id=\"T_2f0d345a_c0b3_11ea_a921_287fcf8c987arow1_col2\" class=\"data row1 col2\" >-0.659394</td>\n",
       "                        <td id=\"T_2f0d345a_c0b3_11ea_a921_287fcf8c987arow1_col3\" class=\"data row1 col3\" >-0.403603</td>\n",
       "                        <td id=\"T_2f0d345a_c0b3_11ea_a921_287fcf8c987arow1_col4\" class=\"data row1 col4\" >-0.068065</td>\n",
       "                        <td id=\"T_2f0d345a_c0b3_11ea_a921_287fcf8c987arow1_col5\" class=\"data row1 col5\" >-0.027643</td>\n",
       "                        <td id=\"T_2f0d345a_c0b3_11ea_a921_287fcf8c987arow1_col6\" class=\"data row1 col6\" >0.019593</td>\n",
       "                        <td id=\"T_2f0d345a_c0b3_11ea_a921_287fcf8c987arow1_col7\" class=\"data row1 col7\" >0.058130</td>\n",
       "            </tr>\n",
       "            <tr>\n",
       "                        <th id=\"T_2f0d345a_c0b3_11ea_a921_287fcf8c987alevel0_row2\" class=\"row_heading level0 row2\" >Churn</th>\n",
       "                        <td id=\"T_2f0d345a_c0b3_11ea_a921_287fcf8c987arow2_col0\" class=\"data row2 col0\" >-0.034302</td>\n",
       "                        <td id=\"T_2f0d345a_c0b3_11ea_a921_287fcf8c987arow2_col1\" class=\"data row2 col1\" >-0.659394</td>\n",
       "                        <td id=\"T_2f0d345a_c0b3_11ea_a921_287fcf8c987arow2_col2\" class=\"data row2 col2\" >1.000000</td>\n",
       "                        <td id=\"T_2f0d345a_c0b3_11ea_a921_287fcf8c987arow2_col3\" class=\"data row2 col3\" >0.472387</td>\n",
       "                        <td id=\"T_2f0d345a_c0b3_11ea_a921_287fcf8c987arow2_col4\" class=\"data row2 col4\" >0.120510</td>\n",
       "                        <td id=\"T_2f0d345a_c0b3_11ea_a921_287fcf8c987arow2_col5\" class=\"data row2 col5\" >-0.045234</td>\n",
       "                        <td id=\"T_2f0d345a_c0b3_11ea_a921_287fcf8c987arow2_col6\" class=\"data row2 col6\" >-0.012857</td>\n",
       "                        <td id=\"T_2f0d345a_c0b3_11ea_a921_287fcf8c987arow2_col7\" class=\"data row2 col7\" >-0.035840</td>\n",
       "            </tr>\n",
       "            <tr>\n",
       "                        <th id=\"T_2f0d345a_c0b3_11ea_a921_287fcf8c987alevel0_row3\" class=\"row_heading level0 row3\" >Term Type_Monthly</th>\n",
       "                        <td id=\"T_2f0d345a_c0b3_11ea_a921_287fcf8c987arow3_col0\" class=\"data row3 col0\" >-0.009959</td>\n",
       "                        <td id=\"T_2f0d345a_c0b3_11ea_a921_287fcf8c987arow3_col1\" class=\"data row3 col1\" >-0.403603</td>\n",
       "                        <td id=\"T_2f0d345a_c0b3_11ea_a921_287fcf8c987arow3_col2\" class=\"data row3 col2\" >0.472387</td>\n",
       "                        <td id=\"T_2f0d345a_c0b3_11ea_a921_287fcf8c987arow3_col3\" class=\"data row3 col3\" >1.000000</td>\n",
       "                        <td id=\"T_2f0d345a_c0b3_11ea_a921_287fcf8c987arow3_col4\" class=\"data row3 col4\" >0.027568</td>\n",
       "                        <td id=\"T_2f0d345a_c0b3_11ea_a921_287fcf8c987arow3_col5\" class=\"data row3 col5\" >0.062320</td>\n",
       "                        <td id=\"T_2f0d345a_c0b3_11ea_a921_287fcf8c987arow3_col6\" class=\"data row3 col6\" >-0.039294</td>\n",
       "                        <td id=\"T_2f0d345a_c0b3_11ea_a921_287fcf8c987arow3_col7\" class=\"data row3 col7\" >-0.046971</td>\n",
       "            </tr>\n",
       "            <tr>\n",
       "                        <th id=\"T_2f0d345a_c0b3_11ea_a921_287fcf8c987alevel0_row4\" class=\"row_heading level0 row4\" >Device_external</th>\n",
       "                        <td id=\"T_2f0d345a_c0b3_11ea_a921_287fcf8c987arow4_col0\" class=\"data row4 col0\" >-0.016950</td>\n",
       "                        <td id=\"T_2f0d345a_c0b3_11ea_a921_287fcf8c987arow4_col1\" class=\"data row4 col1\" >-0.068065</td>\n",
       "                        <td id=\"T_2f0d345a_c0b3_11ea_a921_287fcf8c987arow4_col2\" class=\"data row4 col2\" >0.120510</td>\n",
       "                        <td id=\"T_2f0d345a_c0b3_11ea_a921_287fcf8c987arow4_col3\" class=\"data row4 col3\" >0.027568</td>\n",
       "                        <td id=\"T_2f0d345a_c0b3_11ea_a921_287fcf8c987arow4_col4\" class=\"data row4 col4\" >1.000000</td>\n",
       "                        <td id=\"T_2f0d345a_c0b3_11ea_a921_287fcf8c987arow4_col5\" class=\"data row4 col5\" >-0.142197</td>\n",
       "                        <td id=\"T_2f0d345a_c0b3_11ea_a921_287fcf8c987arow4_col6\" class=\"data row4 col6\" >-0.006792</td>\n",
       "                        <td id=\"T_2f0d345a_c0b3_11ea_a921_287fcf8c987arow4_col7\" class=\"data row4 col7\" >-0.038318</td>\n",
       "            </tr>\n",
       "            <tr>\n",
       "                        <th id=\"T_2f0d345a_c0b3_11ea_a921_287fcf8c987alevel0_row5\" class=\"row_heading level0 row5\" >Device_mobile</th>\n",
       "                        <td id=\"T_2f0d345a_c0b3_11ea_a921_287fcf8c987arow5_col0\" class=\"data row5 col0\" >0.005023</td>\n",
       "                        <td id=\"T_2f0d345a_c0b3_11ea_a921_287fcf8c987arow5_col1\" class=\"data row5 col1\" >-0.027643</td>\n",
       "                        <td id=\"T_2f0d345a_c0b3_11ea_a921_287fcf8c987arow5_col2\" class=\"data row5 col2\" >-0.045234</td>\n",
       "                        <td id=\"T_2f0d345a_c0b3_11ea_a921_287fcf8c987arow5_col3\" class=\"data row5 col3\" >0.062320</td>\n",
       "                        <td id=\"T_2f0d345a_c0b3_11ea_a921_287fcf8c987arow5_col4\" class=\"data row5 col4\" >-0.142197</td>\n",
       "                        <td id=\"T_2f0d345a_c0b3_11ea_a921_287fcf8c987arow5_col5\" class=\"data row5 col5\" >1.000000</td>\n",
       "                        <td id=\"T_2f0d345a_c0b3_11ea_a921_287fcf8c987arow5_col6\" class=\"data row5 col6\" >-0.018400</td>\n",
       "                        <td id=\"T_2f0d345a_c0b3_11ea_a921_287fcf8c987arow5_col7\" class=\"data row5 col7\" >-0.103805</td>\n",
       "            </tr>\n",
       "            <tr>\n",
       "                        <th id=\"T_2f0d345a_c0b3_11ea_a921_287fcf8c987alevel0_row6\" class=\"row_heading level0 row6\" >Device_other</th>\n",
       "                        <td id=\"T_2f0d345a_c0b3_11ea_a921_287fcf8c987arow6_col0\" class=\"data row6 col0\" >0.001480</td>\n",
       "                        <td id=\"T_2f0d345a_c0b3_11ea_a921_287fcf8c987arow6_col1\" class=\"data row6 col1\" >0.019593</td>\n",
       "                        <td id=\"T_2f0d345a_c0b3_11ea_a921_287fcf8c987arow6_col2\" class=\"data row6 col2\" >-0.012857</td>\n",
       "                        <td id=\"T_2f0d345a_c0b3_11ea_a921_287fcf8c987arow6_col3\" class=\"data row6 col3\" >-0.039294</td>\n",
       "                        <td id=\"T_2f0d345a_c0b3_11ea_a921_287fcf8c987arow6_col4\" class=\"data row6 col4\" >-0.006792</td>\n",
       "                        <td id=\"T_2f0d345a_c0b3_11ea_a921_287fcf8c987arow6_col5\" class=\"data row6 col5\" >-0.018400</td>\n",
       "                        <td id=\"T_2f0d345a_c0b3_11ea_a921_287fcf8c987arow6_col6\" class=\"data row6 col6\" >1.000000</td>\n",
       "                        <td id=\"T_2f0d345a_c0b3_11ea_a921_287fcf8c987arow6_col7\" class=\"data row6 col7\" >-0.004958</td>\n",
       "            </tr>\n",
       "            <tr>\n",
       "                        <th id=\"T_2f0d345a_c0b3_11ea_a921_287fcf8c987alevel0_row7\" class=\"row_heading level0 row7\" >Device_tablet</th>\n",
       "                        <td id=\"T_2f0d345a_c0b3_11ea_a921_287fcf8c987arow7_col0\" class=\"data row7 col0\" >0.000801</td>\n",
       "                        <td id=\"T_2f0d345a_c0b3_11ea_a921_287fcf8c987arow7_col1\" class=\"data row7 col1\" >0.058130</td>\n",
       "                        <td id=\"T_2f0d345a_c0b3_11ea_a921_287fcf8c987arow7_col2\" class=\"data row7 col2\" >-0.035840</td>\n",
       "                        <td id=\"T_2f0d345a_c0b3_11ea_a921_287fcf8c987arow7_col3\" class=\"data row7 col3\" >-0.046971</td>\n",
       "                        <td id=\"T_2f0d345a_c0b3_11ea_a921_287fcf8c987arow7_col4\" class=\"data row7 col4\" >-0.038318</td>\n",
       "                        <td id=\"T_2f0d345a_c0b3_11ea_a921_287fcf8c987arow7_col5\" class=\"data row7 col5\" >-0.103805</td>\n",
       "                        <td id=\"T_2f0d345a_c0b3_11ea_a921_287fcf8c987arow7_col6\" class=\"data row7 col6\" >-0.004958</td>\n",
       "                        <td id=\"T_2f0d345a_c0b3_11ea_a921_287fcf8c987arow7_col7\" class=\"data row7 col7\" >1.000000</td>\n",
       "            </tr>\n",
       "    </tbody></table>"
      ],
      "text/plain": [
       "<pandas.io.formats.style.Styler at 0x208c9d2a0c8>"
      ]
     },
     "execution_count": 21,
     "metadata": {},
     "output_type": "execute_result"
    }
   ],
   "source": [
    "corr = df_dummy.corr()\n",
    "corr.style.background_gradient(cmap='coolwarm')\n",
    "# there is no strong correlation present (which will need to be treated)"
   ]
  },
  {
   "cell_type": "markdown",
   "metadata": {},
   "source": [
    "### Step 4a: Train the model"
   ]
  },
  {
   "cell_type": "code",
   "execution_count": 22,
   "metadata": {},
   "outputs": [
    {
     "data": {
      "text/html": [
       "<div>\n",
       "<style scoped>\n",
       "    .dataframe tbody tr th:only-of-type {\n",
       "        vertical-align: middle;\n",
       "    }\n",
       "\n",
       "    .dataframe tbody tr th {\n",
       "        vertical-align: top;\n",
       "    }\n",
       "\n",
       "    .dataframe thead th {\n",
       "        text-align: right;\n",
       "    }\n",
       "</style>\n",
       "<table border=\"1\" class=\"dataframe\">\n",
       "  <tbody>\n",
       "    <tr>\n",
       "      <th>model</th>\n",
       "      <td>lifelines.CoxPHFitter</td>\n",
       "    </tr>\n",
       "    <tr>\n",
       "      <th>duration col</th>\n",
       "      <td>'Tenure'</td>\n",
       "    </tr>\n",
       "    <tr>\n",
       "      <th>event col</th>\n",
       "      <td>'Churn'</td>\n",
       "    </tr>\n",
       "    <tr>\n",
       "      <th>baseline estimation</th>\n",
       "      <td>breslow</td>\n",
       "    </tr>\n",
       "    <tr>\n",
       "      <th>number of observations</th>\n",
       "      <td>87684</td>\n",
       "    </tr>\n",
       "    <tr>\n",
       "      <th>number of events observed</th>\n",
       "      <td>46313</td>\n",
       "    </tr>\n",
       "    <tr>\n",
       "      <th>partial log-likelihood</th>\n",
       "      <td>-494348.73</td>\n",
       "    </tr>\n",
       "    <tr>\n",
       "      <th>time fit was run</th>\n",
       "      <td>2020-07-08 00:37:20 UTC</td>\n",
       "    </tr>\n",
       "  </tbody>\n",
       "</table>\n",
       "</div><table border=\"1\" class=\"dataframe\">\n",
       "  <thead>\n",
       "    <tr style=\"text-align: right;\">\n",
       "      <th></th>\n",
       "      <th>coef</th>\n",
       "      <th>exp(coef)</th>\n",
       "      <th>se(coef)</th>\n",
       "      <th>coef lower 95%</th>\n",
       "      <th>coef upper 95%</th>\n",
       "      <th>exp(coef) lower 95%</th>\n",
       "      <th>exp(coef) upper 95%</th>\n",
       "      <th>z</th>\n",
       "      <th>p</th>\n",
       "      <th>-log2(p)</th>\n",
       "    </tr>\n",
       "  </thead>\n",
       "  <tbody>\n",
       "    <tr>\n",
       "      <th>Auto Renew Enabled</th>\n",
       "      <td>-0.07</td>\n",
       "      <td>0.93</td>\n",
       "      <td>0.01</td>\n",
       "      <td>-0.09</td>\n",
       "      <td>-0.05</td>\n",
       "      <td>0.92</td>\n",
       "      <td>0.95</td>\n",
       "      <td>-7.14</td>\n",
       "      <td>&lt;0.005</td>\n",
       "      <td>39.98</td>\n",
       "    </tr>\n",
       "    <tr>\n",
       "      <th>Term Type_Monthly</th>\n",
       "      <td>2.72</td>\n",
       "      <td>15.11</td>\n",
       "      <td>0.03</td>\n",
       "      <td>2.66</td>\n",
       "      <td>2.77</td>\n",
       "      <td>14.32</td>\n",
       "      <td>15.95</td>\n",
       "      <td>98.31</td>\n",
       "      <td>&lt;0.005</td>\n",
       "      <td>inf</td>\n",
       "    </tr>\n",
       "    <tr>\n",
       "      <th>Device_external</th>\n",
       "      <td>0.51</td>\n",
       "      <td>1.67</td>\n",
       "      <td>0.02</td>\n",
       "      <td>0.48</td>\n",
       "      <td>0.55</td>\n",
       "      <td>1.61</td>\n",
       "      <td>1.73</td>\n",
       "      <td>28.40</td>\n",
       "      <td>&lt;0.005</td>\n",
       "      <td>587.06</td>\n",
       "    </tr>\n",
       "    <tr>\n",
       "      <th>Device_mobile</th>\n",
       "      <td>-0.21</td>\n",
       "      <td>0.81</td>\n",
       "      <td>0.01</td>\n",
       "      <td>-0.23</td>\n",
       "      <td>-0.18</td>\n",
       "      <td>0.80</td>\n",
       "      <td>0.83</td>\n",
       "      <td>-18.98</td>\n",
       "      <td>&lt;0.005</td>\n",
       "      <td>264.39</td>\n",
       "    </tr>\n",
       "    <tr>\n",
       "      <th>Device_other</th>\n",
       "      <td>0.48</td>\n",
       "      <td>1.61</td>\n",
       "      <td>0.20</td>\n",
       "      <td>0.08</td>\n",
       "      <td>0.88</td>\n",
       "      <td>1.08</td>\n",
       "      <td>2.40</td>\n",
       "      <td>2.33</td>\n",
       "      <td>0.02</td>\n",
       "      <td>5.65</td>\n",
       "    </tr>\n",
       "    <tr>\n",
       "      <th>Device_tablet</th>\n",
       "      <td>-0.26</td>\n",
       "      <td>0.77</td>\n",
       "      <td>0.03</td>\n",
       "      <td>-0.32</td>\n",
       "      <td>-0.20</td>\n",
       "      <td>0.72</td>\n",
       "      <td>0.82</td>\n",
       "      <td>-8.08</td>\n",
       "      <td>&lt;0.005</td>\n",
       "      <td>50.49</td>\n",
       "    </tr>\n",
       "  </tbody>\n",
       "</table><div>\n",
       "<style scoped>\n",
       "    .dataframe tbody tr th:only-of-type {\n",
       "        vertical-align: middle;\n",
       "    }\n",
       "\n",
       "    .dataframe tbody tr th {\n",
       "        vertical-align: top;\n",
       "    }\n",
       "\n",
       "    .dataframe thead th {\n",
       "        text-align: right;\n",
       "    }\n",
       "</style>\n",
       "<table border=\"1\" class=\"dataframe\">\n",
       "  <tbody>\n",
       "    <tr>\n",
       "      <th>Concordance</th>\n",
       "      <td>0.67</td>\n",
       "    </tr>\n",
       "    <tr>\n",
       "      <th>Partial AIC</th>\n",
       "      <td>988709.45</td>\n",
       "    </tr>\n",
       "    <tr>\n",
       "      <th>log-likelihood ratio test</th>\n",
       "      <td>25267.73 on 6 df</td>\n",
       "    </tr>\n",
       "    <tr>\n",
       "      <th>-log2(p) of ll-ratio test</th>\n",
       "      <td>inf</td>\n",
       "    </tr>\n",
       "  </tbody>\n",
       "</table>\n",
       "</div>"
      ],
      "text/plain": [
       "<IPython.core.display.HTML object>"
      ]
     },
     "metadata": {},
     "output_type": "display_data"
    }
   ],
   "source": [
    "cph = CoxPHFitter().fit(df_dummy, 'Tenure', 'Churn')\n",
    "#cph.check_assumptions(df_dummy, p_value_threshold=0.05)\n",
    "cph.print_summary()"
   ]
  },
  {
   "cell_type": "markdown",
   "metadata": {},
   "source": [
    "**Observation**:\n",
    "1. The Concordance index is 0.67 which indicates that this is a good basic model for average life span prediction. (Usually, the real-world fitted models have a concordance index between 0.55 and 0.7 which is due to the noise present in the data).\n",
    "2. All the variables are significant except 'Device_other'"
   ]
  },
  {
   "cell_type": "code",
   "execution_count": 23,
   "metadata": {},
   "outputs": [
    {
     "data": {
      "text/plain": [
       "<matplotlib.axes._subplots.AxesSubplot at 0x208c9fd6848>"
      ]
     },
     "execution_count": 23,
     "metadata": {},
     "output_type": "execute_result"
    },
    {
     "data": {
      "image/png": "[encoded data removed]",
      "text/plain": [
       "<Figure size 432x288 with 1 Axes>"
      ]
     },
     "metadata": {
      "needs_background": "light"
     },
     "output_type": "display_data"
    }
   ],
   "source": [
    "cph.plot()"
   ]
  },
  {
   "cell_type": "code",
   "execution_count": 24,
   "metadata": {},
   "outputs": [
    {
     "data": {
      "text/plain": [
       "<matplotlib.axes._subplots.AxesSubplot at 0x208ca517508>"
      ]
     },
     "execution_count": 24,
     "metadata": {},
     "output_type": "execute_result"
    },
    {
     "data": {
      "image/png": "[encoded data removed]",
      "text/plain": [
       "<Figure size 432x288 with 1 Axes>"
      ]
     },
     "metadata": {
      "needs_background": "light"
     },
     "output_type": "display_data"
    }
   ],
   "source": [
    "cph.plot_covariate_groups('Term Type_Monthly', [1,0], cmap='coolwarm')"
   ]
  },
  {
   "cell_type": "markdown",
   "metadata": {},
   "source": [
    "### Step 4b: Test the model"
   ]
  },
  {
   "cell_type": "code",
   "execution_count": 25,
   "metadata": {},
   "outputs": [
    {
     "name": "stdout",
     "output_type": "stream",
     "text": [
      "Predicted median customer life span (in days)\n",
      "5    123.0\n",
      "6     99.0\n",
      "7    184.0\n",
      "8    219.0\n",
      "9    219.0\n",
      "Name: 0.5, dtype: float64\n"
     ]
    },
    {
     "data": {
      "text/plain": [
       "<matplotlib.axes._subplots.AxesSubplot at 0x208ca59ec48>"
      ]
     },
     "execution_count": 25,
     "metadata": {},
     "output_type": "execute_result"
    },
    {
     "data": {
      "image/png": "[encoded data removed]",
      "text/plain": [
       "<Figure size 432x288 with 1 Axes>"
      ]
     },
     "metadata": {
      "needs_background": "light"
     },
     "output_type": "display_data"
    }
   ],
   "source": [
    "tr_rows = df_dummy.iloc[5:10] #randomly select candidates for prediction\n",
    "tr_rows\n",
    "\n",
    "print(\"Predicted median customer life span (in days)\")\n",
    "print(cph.predict_median(tr_rows))\n",
    "\n",
    "# Predict the survival curve. Customers can be identified with the numbers mentioned against each curve.\n",
    "cph.predict_survival_function(tr_rows).plot()"
   ]
  },
  {
   "cell_type": "code",
   "execution_count": 26,
   "metadata": {},
   "outputs": [
    {
     "data": {
      "text/html": [
       "<div>\n",
       "<style scoped>\n",
       "    .dataframe tbody tr th:only-of-type {\n",
       "        vertical-align: middle;\n",
       "    }\n",
       "\n",
       "    .dataframe tbody tr th {\n",
       "        vertical-align: top;\n",
       "    }\n",
       "\n",
       "    .dataframe thead th {\n",
       "        text-align: right;\n",
       "    }\n",
       "</style>\n",
       "<table border=\"1\" class=\"dataframe\">\n",
       "  <thead>\n",
       "    <tr style=\"text-align: right;\">\n",
       "      <th></th>\n",
       "      <th>95% lower-bound</th>\n",
       "      <th>95% upper-bound</th>\n",
       "    </tr>\n",
       "  </thead>\n",
       "  <tbody>\n",
       "    <tr>\n",
       "      <th>Auto Renew Enabled</th>\n",
       "      <td>-0.087930</td>\n",
       "      <td>-0.050058</td>\n",
       "    </tr>\n",
       "    <tr>\n",
       "      <th>Term Type_Monthly</th>\n",
       "      <td>2.661461</td>\n",
       "      <td>2.769745</td>\n",
       "    </tr>\n",
       "    <tr>\n",
       "      <th>Device_external</th>\n",
       "      <td>0.475968</td>\n",
       "      <td>0.546528</td>\n",
       "    </tr>\n",
       "    <tr>\n",
       "      <th>Device_mobile</th>\n",
       "      <td>-0.226630</td>\n",
       "      <td>-0.184202</td>\n",
       "    </tr>\n",
       "    <tr>\n",
       "      <th>Device_other</th>\n",
       "      <td>0.075123</td>\n",
       "      <td>0.876137</td>\n",
       "    </tr>\n",
       "    <tr>\n",
       "      <th>Device_tablet</th>\n",
       "      <td>-0.322151</td>\n",
       "      <td>-0.196410</td>\n",
       "    </tr>\n",
       "  </tbody>\n",
       "</table>\n",
       "</div>"
      ],
      "text/plain": [
       "                    95% lower-bound  95% upper-bound\n",
       "Auto Renew Enabled        -0.087930        -0.050058\n",
       "Term Type_Monthly          2.661461         2.769745\n",
       "Device_external            0.475968         0.546528\n",
       "Device_mobile             -0.226630        -0.184202\n",
       "Device_other               0.075123         0.876137\n",
       "Device_tablet             -0.322151        -0.196410"
      ]
     },
     "execution_count": 26,
     "metadata": {},
     "output_type": "execute_result"
    }
   ],
   "source": [
    "cph.confidence_intervals_"
   ]
  },
  {
   "cell_type": "code",
   "execution_count": null,
   "metadata": {},
   "outputs": [],
   "source": []
  },
  {
   "cell_type": "markdown",
   "metadata": {},
   "source": [
    "### Extra:"
   ]
  },
  {
   "cell_type": "code",
   "execution_count": 27,
   "metadata": {},
   "outputs": [
    {
     "name": "stdout",
     "output_type": "stream",
     "text": [
      "-300875.01540795644\n",
      "-307409.3756270975\n",
      "-303221.8452398905\n"
     ]
    }
   ],
   "source": [
    "# trying parametric models\n",
    "\n",
    "df_dummy[\"Tenure\"] = np.where(df_dummy['Tenure']==0, 0.001, df_dummy['Tenure'])\n",
    "\n",
    "from lifelines import LogLogisticAFTFitter, WeibullAFTFitter, LogNormalAFTFitter\n",
    "from lifelines.datasets import load_rossi\n",
    "\n",
    "llf = LogLogisticAFTFitter().fit(df_dummy, 'Tenure', 'Churn')\n",
    "lnf = LogNormalAFTFitter().fit(df_dummy, 'Tenure', 'Churn')\n",
    "wf = WeibullAFTFitter().fit(df_dummy, 'Tenure', 'Churn')\n",
    "\n",
    "print(llf.log_likelihood_)  # slightly the best model.\n",
    "print(lnf.log_likelihood_)  \n",
    "print(wf.log_likelihood_)  "
   ]
  },
  {
   "cell_type": "markdown",
   "metadata": {},
   "source": [
    "#### Future Modeling Improvements:\n",
    "\n",
    "As the next machine learning approach, I would use random survival forest (RSF) for assessing the increase in prediction accuracy and to avoid the proportional constraint of the Cox proportional hazards model. Random Survival Forest model can be implemented using scikit_survival package"
   ]
  },
  {
   "cell_type": "code",
   "execution_count": null,
   "metadata": {},
   "outputs": [],
   "source": []
  },
  {
   "cell_type": "code",
   "execution_count": null,
   "metadata": {},
   "outputs": [],
   "source": []
  },
  {
   "cell_type": "markdown",
   "metadata": {},
   "source": [
    "# Task 2: "
   ]
  },
  {
   "cell_type": "markdown",
   "metadata": {},
   "source": [
    "One of the key challenges in subscription businesses is managing subscriber churn. As a solution it is imperative to identify patterns in user data which will help keep them subscribed longer. I have listed my thoughts below on **reframing this business problem as a data science problem and proposed solutions from an implementations perspective**. <br>\n",
    "Assuming the data consistis of both active and expired memberships with following data points:\n",
    "1. Date of user joining\n",
    "2. Subscription plan and type (annual or monthly)\n",
    "3. Which article or landing page they converted off of\n",
    "4. If and when they cancelled\n",
    "5. What content they were engaging with\n",
    "6. Email addresses and locations\n",
    "\n",
    "#### Question 1: \n",
    "Identify patterns in user data to keep them subscribed longer.\n",
    "#### Answer 1: \n",
    "1. *Recommendation engines*: I would employ content-based filtering or collaborative-filtering based on the available data. <br>\n",
    "1a. *Content-based filtering* will recommend a new content based on user's preferred content. Approach needs more user preference data in order to incorporate best match. <br>\n",
    "1b. *Collaborative filtering* will find users with similar content preferences and recommend new reading content to a user based on popularity with neighbourhood group. Approach needs large dataset with active users and their reading preferences <br><br>\n",
    "2. *Behavioral customer segment*: I would employ clustering techniques on behavioral and demographics data such as locations, amount of product usage, source of conversion (landing page/article) etc. to find segments especially at-risk of churning and study their behavioral characteristics<br><br>\n",
    "3. *Cross-sell/Up-sell/Repeat purchase*: I would employ Market Basket Analysis to find associations between related content and recommend to user. Additionally, targeted marketing through recency-frequency-monetary analysis will help engage at-risk customers with appropriate offers.\n",
    "\n",
    "#### Question 2: \n",
    "How can different types of churns be categorized (qualitatively)? Which ones can be addressed, and which ones cannot?\n",
    "#### Answer 2: \n",
    "Different types of reasons of churn are:\n",
    "1. *Contractual Churn* - when users decide not to continue/renew with their expired subscriptions. <br><br>\n",
    "2. *Voluntary Churn* - when users cancel their existing service. This can be further divided into:<br>\n",
    "2a. *Product Usability Churn* - when users fail to encounter the “aha” moment in initial engagement days. “aha” moment is the instant when users understand the value of product <br>\n",
    "2b. *High Price Churn* - when users find lower prices at competitors <br><br>\n",
    "3. *Payment Failure Churn* - when users experience friction transacting with the product, which eventually discourages them from further engagement<br><br>\n",
    "4. *Unavoidable churn*: While all above are avoidable churn, some unavoidable churn can be: <br><br>\n",
    "4a. *Missing Product Feature Churn* [Addressable] - when users leave because they seek a particular product functionality, not developed in our product yet. Note: This churn can be addressed by aligining product development road map with customer needs <br>\n",
    "4b. *Involuntary churn* [Unaddressable] - when users (organizations) go out of business or individual users can't pay for subscriptions due to financial hardships.\n",
    "\n",
    "*Reference:*\n",
    "\n",
    "[Facebook's aha moment and how to find it](https://mode.com/blog/facebook-aha-moment-simpler-than-you-think/)\n",
    "\n",
    "#### Question 3:\n",
    "How would you go about identifying and measuring these categories analytically, in your dataset?\n",
    "#### Answer 3: \n",
    "1. *Contractual Churn* - **Identify**: # of users not renewing monthly (or annual) subscriptions. **Measure**: Track contract renewal rate.<br><br> \n",
    "2. Voluntary Churn - <br>\n",
    "2a. Product Usability Churn - **Identify**: find set of actions such that majority of users who took the action were retained. Example - For a travel booking app, users adding in a payment method such as credit card is an action that high proportion of the retained group would take. **Measure**: Count # of new users who took the \"aha\" action.<br>\n",
    "2b. High Price Churn - **Identify**: User exit-survey. **Measure**: # Users who gave the reason of leaving as High product price. And calculate Product ROI for customers and advertise the cost/time save<br><br>\n",
    "3. Payment Failure Churn - **Identify**: trasaction processing status **Measure**: # transactions with failed status and reason as 'payment failure'"
   ]
  },
  {
   "cell_type": "code",
   "execution_count": null,
   "metadata": {},
   "outputs": [],
   "source": []
  },
  {
   "cell_type": "code",
   "execution_count": null,
   "metadata": {},
   "outputs": [],
   "source": []
  },
  {
   "cell_type": "code",
   "execution_count": null,
   "metadata": {},
   "outputs": [],
   "source": []
  },
  {
   "cell_type": "code",
   "execution_count": null,
   "metadata": {},
   "outputs": [],
   "source": []
  },
  {
   "cell_type": "code",
   "execution_count": null,
   "metadata": {},
   "outputs": [],
   "source": []
  },
  {
   "cell_type": "code",
   "execution_count": null,
   "metadata": {},
   "outputs": [],
   "source": []
  },
  {
   "cell_type": "code",
   "execution_count": null,
   "metadata": {},
   "outputs": [],
   "source": []
  },
  {
   "cell_type": "code",
   "execution_count": null,
   "metadata": {},
   "outputs": [],
   "source": []
  },
  {
   "cell_type": "code",
   "execution_count": null,
   "metadata": {},
   "outputs": [],
   "source": []
  }
 ],
 "metadata": {
  "kernelspec": {
   "display_name": "Python 3",
   "language": "python",
   "name": "python3"
  },
  "language_info": {
   "codemirror_mode": {
    "name": "ipython",
    "version": 3
   },
   "file_extension": ".py",
   "mimetype": "text/x-python",
   "name": "python",
   "nbconvert_exporter": "python",
   "pygments_lexer": "ipython3",
   "version": "3.7.6"
  }
 },
 "nbformat": 4,
 "nbformat_minor": 4
}
